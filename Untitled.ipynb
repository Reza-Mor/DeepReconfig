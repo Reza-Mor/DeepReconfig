{
 "cells": [
  {
   "cell_type": "code",
   "execution_count": 2,
   "metadata": {},
   "outputs": [
    {
     "name": "stdout",
     "output_type": "stream",
     "text": [
      "S1 : ACADB\n",
      "S2 : CBDA\n",
      "LCS: CB\n"
     ]
    }
   ],
   "source": [
    "# Function to find lcs_algo\n",
    "def lcs_algo(S1, S2, m, n):\n",
    "    L = [[0 for x in range(n+1)] for x in range(m+1)]\n",
    "    \n",
    "    #you can use a numpy array as well\n",
    "    #L = np.zeros((m,n))\n",
    "\n",
    "    # Building the mtrix in bottom-up way\n",
    "    for i in range(m+1):\n",
    "        for j in range(n+1):\n",
    "            if i == 0 or j == 0:\n",
    "                L[i][j] = 0\n",
    "            elif S1[i-1] == S2[j-1]:\n",
    "                L[i][j] = L[i-1][j-1] + 1\n",
    "            else:\n",
    "                L[i][j] = max(L[i-1][j], L[i][j-1])\n",
    "\n",
    "    index = L[m][n]\n",
    "\n",
    "    lcs_algo = [\"\"] * (index+1)\n",
    "    lcs_algo[index] = \"\"\n",
    "\n",
    "    i = m\n",
    "    j = n\n",
    "    while i > 0 and j > 0:\n",
    "\n",
    "        if S1[i-1] == S2[j-1]:\n",
    "            lcs_algo[index-1] = S1[i-1]\n",
    "            i -= 1\n",
    "            j -= 1\n",
    "            index -= 1\n",
    "\n",
    "        elif L[i-1][j] > L[i][j-1]:\n",
    "            i -= 1\n",
    "        else:\n",
    "            j -= 1\n",
    "            \n",
    "    # Printing the sub sequences\n",
    "    print(\"S1 : \" + S1 + \"\\nS2 : \" + S2)\n",
    "    print(\"LCS: \" + \"\".join(lcs_algo))\n",
    "\n",
    "\n",
    "S1 = \"ACADB\"\n",
    "S2 = \"CBDA\"\n",
    "m = len(S1)\n",
    "n = len(S2)\n",
    "lcs_algo(S1, S2, m, n)"
   ]
  },
  {
   "cell_type": "code",
   "execution_count": 3,
   "metadata": {},
   "outputs": [
    {
     "data": {
      "text/plain": [
       "'ab'"
      ]
     },
     "execution_count": 3,
     "metadata": {},
     "output_type": "execute_result"
    }
   ],
   "source": [
    "s= 'abc'\n"
   ]
  },
  {
   "cell_type": "code",
   "execution_count": null,
   "metadata": {},
   "outputs": [],
   "source": []
  }
 ],
 "metadata": {
  "kernelspec": {
   "display_name": "Python 3 (ipykernel)",
   "language": "python",
   "name": "python3"
  },
  "language_info": {
   "codemirror_mode": {
    "name": "ipython",
    "version": 3
   },
   "file_extension": ".py",
   "mimetype": "text/x-python",
   "name": "python",
   "nbconvert_exporter": "python",
   "pygments_lexer": "ipython3",
   "version": "3.7.3"
  }
 },
 "nbformat": 4,
 "nbformat_minor": 2
}
